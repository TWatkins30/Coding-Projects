{
 "cells": [
  {
   "cell_type": "markdown",
   "metadata": {},
   "source": [
    "# QUESTION #1 Part A"
   ]
  },
  {
   "cell_type": "code",
   "execution_count": 1,
   "metadata": {},
   "outputs": [
    {
     "name": "stdout",
     "output_type": "stream",
     "text": [
      "[0 0 0 0 1 0 0 0 0 0]\n"
     ]
    }
   ],
   "source": [
    "import numpy as np\n",
    "\n",
    "l = np.zeros((10), dtype=int)\n",
    "l[4] = 1\n",
    "\n",
    "print(l)"
   ]
  },
  {
   "cell_type": "markdown",
   "metadata": {},
   "source": [
    "# QUESTION #1 Part B"
   ]
  },
  {
   "cell_type": "code",
   "execution_count": 2,
   "metadata": {},
   "outputs": [
    {
     "name": "stdout",
     "output_type": "stream",
     "text": [
      "[[ 1  2  3  4]\n",
      " [ 5  6  7  8]\n",
      " [ 9 10 11 12]]\n"
     ]
    }
   ],
   "source": [
    "import numpy as np\n",
    "\n",
    "z = np.arange(1, 13).reshape((3,4))\n",
    "\n",
    "print(z)"
   ]
  },
  {
   "cell_type": "markdown",
   "metadata": {},
   "source": [
    "# QUESTION #1 Part C"
   ]
  },
  {
   "cell_type": "code",
   "execution_count": 3,
   "metadata": {},
   "outputs": [
    {
     "name": "stdout",
     "output_type": "stream",
     "text": [
      "[[0 0 0 0 0 0 0 0 0 0]\n",
      " [0 1 1 1 1 1 1 1 1 0]\n",
      " [0 1 1 1 1 1 1 1 1 0]\n",
      " [0 1 1 1 1 1 1 1 1 0]\n",
      " [0 1 1 1 1 1 1 1 1 0]\n",
      " [0 1 1 1 1 1 1 1 1 0]\n",
      " [0 1 1 1 1 1 1 1 1 0]\n",
      " [0 1 1 1 1 1 1 1 1 0]\n",
      " [0 1 1 1 1 1 1 1 1 0]\n",
      " [0 0 0 0 0 0 0 0 0 0]]\n"
     ]
    }
   ],
   "source": [
    "import numpy as np\n",
    "\n",
    "n = 10\n",
    "\n",
    "p = np.full((n, n), 0)\n",
    "\n",
    "p[1:n-1,1:n-1] = 1\n",
    "\n",
    "print(p)"
   ]
  },
  {
   "cell_type": "markdown",
   "metadata": {},
   "source": [
    "# QUESTION 2 Part A"
   ]
  },
  {
   "cell_type": "code",
   "execution_count": 4,
   "metadata": {},
   "outputs": [
    {
     "name": "stdout",
     "output_type": "stream",
     "text": [
      "[   2    4    8   16   32   64  128  256  512 1024 2048]\n"
     ]
    }
   ],
   "source": [
    "import numpy as np\n",
    "\n",
    "z = 2 ** np.arange(1, 12)\n",
    "\n",
    "print(z)"
   ]
  },
  {
   "cell_type": "markdown",
   "metadata": {},
   "source": [
    "# Question #2 Part B"
   ]
  },
  {
   "cell_type": "code",
   "execution_count": 5,
   "metadata": {},
   "outputs": [
    {
     "data": {
      "text/plain": [
       "0.7444444444444444"
      ]
     },
     "execution_count": 5,
     "metadata": {},
     "output_type": "execute_result"
    }
   ],
   "source": [
    "import numpy as np\n",
    "\n",
    "n = np.array([[0.1, 0.8, 0.8],\n",
    "             [0.2, 0.4, 1.1],\n",
    "             [1.3, 0.9, 1.1]])\n",
    "np.average(n)\n",
    "#print(n)"
   ]
  },
  {
   "cell_type": "markdown",
   "metadata": {},
   "source": [
    "# QUESTION #2 Part C"
   ]
  },
  {
   "cell_type": "code",
   "execution_count": 6,
   "metadata": {
    "scrolled": true
   },
   "outputs": [
    {
     "data": {
      "text/plain": [
       "array([0.53333333, 0.7       , 1.        ])"
      ]
     },
     "execution_count": 6,
     "metadata": {},
     "output_type": "execute_result"
    }
   ],
   "source": [
    "import numpy as np\n",
    "\n",
    "n = np.array([[0.1, 0.8, 0.8],\n",
    "             [0.2, 0.4, 1.1],\n",
    "             [1.3, 0.9, 1.1]])\n",
    "\n",
    "np.average(n, axis=0)\n",
    "    "
   ]
  },
  {
   "cell_type": "markdown",
   "metadata": {},
   "source": [
    "# QUESTION #3"
   ]
  },
  {
   "cell_type": "code",
   "execution_count": 7,
   "metadata": {},
   "outputs": [
    {
     "name": "stdout",
     "output_type": "stream",
     "text": [
      "0.8267255422869786\n"
     ]
    }
   ],
   "source": [
    "import numpy as np\n",
    "xn = np.array([0.        , 0.62831853, \n",
    "              1.25663706, 1.88495559, \n",
    "              2.51327412, 3.14159265, \n",
    "              3.76991118, 4.39822972, \n",
    "              5.02654825, 5.65486678,\n",
    "              6.28318531])\n",
    "\n",
    "yn = np.array([0.            ,  5.87785252e-01,  \n",
    "              9.51056516e-01,  9.51056516e-01, \n",
    "              5.87785252e-01,  1.22464680e-16, \n",
    "              -5.87785252e-01, -9.51056516e-01,\n",
    "              -9.51056516e-01, -5.87785252e-01, \n",
    "              -2.44929360e-16])\n",
    "\n",
    "\n",
    "        \n",
    "def linear_interpolation(x,xn,yn):\n",
    "    for i in range(len(xn) - 1):\n",
    "        if xn[i] < x <= xn[i+1]:\n",
    "            j = i\n",
    "            break\n",
    "    A = (xn[i+1] - x) / (xn[i+1] - xn[i])\n",
    "    B = (x - xn[i]) / (xn[i+1] - xn[i])\n",
    "            \n",
    "    return (A*yn[i] + B*yn[i+1])\n",
    "\n",
    "print(linear_interpolation(2.1,xn,yn))"
   ]
  },
  {
   "cell_type": "markdown",
   "metadata": {},
   "source": [
    "# Question #4"
   ]
  },
  {
   "cell_type": "code",
   "execution_count": 8,
   "metadata": {},
   "outputs": [
    {
     "name": "stdout",
     "output_type": "stream",
     "text": [
      "2.5\n"
     ]
    }
   ],
   "source": [
    "import numpy as np\n",
    "from math import exp\n",
    "\n",
    "f = lambda x: 5*x**2 + 9 *x - 80\n",
    "\n",
    "def bisection_method(f, a = 3, b = 4 , epsilon = 1e-6):\n",
    "    while abs(a-b) >= epsilon:\n",
    "        midpoint = (np.sign(a)+b) / 2\n",
    "        hold = f(b)*f(midpoint) \n",
    "        if hold > epsilon:\n",
    "            a = midpoint\n",
    "        else:\n",
    "            b = midpoint\n",
    "            \n",
    "        return midpoint\n",
    "\n",
    "print(bisection_method(f))"
   ]
  },
  {
   "cell_type": "code",
   "execution_count": null,
   "metadata": {},
   "outputs": [],
   "source": []
  }
 ],
 "metadata": {
  "kernelspec": {
   "display_name": "Python 3",
   "language": "python",
   "name": "python3"
  },
  "language_info": {
   "codemirror_mode": {
    "name": "ipython",
    "version": 3
   },
   "file_extension": ".py",
   "mimetype": "text/x-python",
   "name": "python",
   "nbconvert_exporter": "python",
   "pygments_lexer": "ipython3",
   "version": "3.7.3"
  }
 },
 "nbformat": 4,
 "nbformat_minor": 2
}
