{
 "cells": [
  {
   "cell_type": "markdown",
   "metadata": {},
   "source": [
    "# Question 1"
   ]
  },
  {
   "cell_type": "markdown",
   "metadata": {},
   "source": [
    "# Part A"
   ]
  },
  {
   "cell_type": "code",
   "execution_count": 1,
   "metadata": {},
   "outputs": [
    {
     "data": {
      "text/plain": [
       "[3, 6, 11, 18, 27, 38, 51, 66, 83, 102]"
      ]
     },
     "execution_count": 1,
     "metadata": {},
     "output_type": "execute_result"
    }
   ],
   "source": [
    "[x**2 + 2*x +3 for x in range(10)]"
   ]
  },
  {
   "cell_type": "markdown",
   "metadata": {},
   "source": [
    "# Part B"
   ]
  },
  {
   "cell_type": "code",
   "execution_count": 2,
   "metadata": {},
   "outputs": [
    {
     "data": {
      "text/plain": [
       "[0.0,\n",
       " 3.605551275463989,\n",
       " 9.219544457292887,\n",
       " 3.605551275463989,\n",
       " 0.0,\n",
       " 7.211102550927978,\n",
       " 9.219544457292887,\n",
       " 7.211102550927978,\n",
       " 0.0]"
      ]
     },
     "execution_count": 2,
     "metadata": {},
     "output_type": "execute_result"
    }
   ],
   "source": [
    "import numpy as np\n",
    "points = np.array([[ 6,  1],\n",
    "                   [ 4,  4],\n",
    "                   [ 8, 10]])\n",
    "[np.sqrt((p1[0]-p2[0]) ** 2 + (p1[1] - p2[1]) ** 2) for p1 in points for p2 in points]"
   ]
  },
  {
   "cell_type": "markdown",
   "metadata": {},
   "source": [
    "# Part C"
   ]
  },
  {
   "cell_type": "code",
   "execution_count": 3,
   "metadata": {},
   "outputs": [
    {
     "data": {
      "text/plain": [
       "[5, 5, 3, 5, 4, 4, 3]"
      ]
     },
     "execution_count": 3,
     "metadata": {},
     "output_type": "execute_result"
    }
   ],
   "source": [
    "sentence = \"the quick brown fox jumps over the lazy dog\"\n",
    "words = sentence.split()\n",
    "[len(word) for word in words if word != 'the']"
   ]
  },
  {
   "cell_type": "markdown",
   "metadata": {},
   "source": [
    "# Question 2"
   ]
  },
  {
   "cell_type": "markdown",
   "metadata": {},
   "source": [
    "# Part A"
   ]
  },
  {
   "cell_type": "code",
   "execution_count": 4,
   "metadata": {
    "scrolled": true
   },
   "outputs": [
    {
     "name": "stdout",
     "output_type": "stream",
     "text": [
      "import numpy as np\n",
      "import sys\n",
      "\n",
      "\n",
      "list = np.arange(int(sys.argv[1]), int(sys.argv[2]) + 1)\n",
      "\n",
      "for number in list:\n",
      "\tif number % 3 == 0 and number % 5 == 0:\n",
      "\t\tprint(\"fizzbuzz\")\n",
      "\telif number % 3 == 0:\n",
      "\t\tprint(\"fizz\")\n",
      "\telif number % 5 == 0:\n",
      "\t\tprint(\"buzz\")\n",
      "\telse:\n",
      "\t\tprint(number)\n"
     ]
    }
   ],
   "source": [
    "!type fizzbuzz_A.py"
   ]
  },
  {
   "cell_type": "markdown",
   "metadata": {},
   "source": [
    "# Part B"
   ]
  },
  {
   "cell_type": "code",
   "execution_count": 5,
   "metadata": {},
   "outputs": [
    {
     "name": "stdout",
     "output_type": "stream",
     "text": [
      "import numpy as np\n",
      "\n",
      "import sys\n",
      "\n",
      "\n",
      "\n",
      "\n",
      "\n",
      "list = np.arange(int(sys.argv[1]), int(sys.argv[2]) + 1)\n",
      "\n",
      "\n",
      "\n",
      "for number in list:\n",
      "\n",
      "\tif number % 3 == 0 and number % 5 == 0:\n",
      "\n",
      "\t\tprint(\"fizzbuzz\")\n",
      "\n",
      "\telif number % 3 == 0:\n",
      "\n",
      "\t\tprint(\"fizz\")\n",
      "\n",
      "\telif number % 5 == 0:\n",
      "\n",
      "\t\tprint(\"buzz\")\n",
      "\n",
      "\telse:\n",
      "\n",
      "\t\tprint(number)\n"
     ]
    }
   ],
   "source": [
    "with open('fizzbuzz_A.py', 'r') as py_file:\n",
    "    for line in py_file:\n",
    "        print(line)"
   ]
  },
  {
   "cell_type": "markdown",
   "metadata": {},
   "source": [
    "# Part C"
   ]
  },
  {
   "cell_type": "code",
   "execution_count": null,
   "metadata": {},
   "outputs": [],
   "source": []
  },
  {
   "cell_type": "markdown",
   "metadata": {},
   "source": [
    "# Question 3"
   ]
  },
  {
   "cell_type": "code",
   "execution_count": 6,
   "metadata": {},
   "outputs": [
    {
     "name": "stdout",
     "output_type": "stream",
     "text": [
      "0.07468060255179591\n",
      "7.468060255179592%\n"
     ]
    }
   ],
   "source": [
    "import numpy as np\n",
    "def f(x, l):\n",
    "    # U = f(x, lambda)\n",
    "    if x >= 0:\n",
    "        return l * np.exp(-l * x)\n",
    "    elif x < 0:\n",
    "        return 0\n",
    "\n",
    "hold = f(2, 1.5)\n",
    "print(hold) \n",
    "print(f\"{hold * 100}%\")"
   ]
  },
  {
   "cell_type": "markdown",
   "metadata": {},
   "source": [
    "# Question 4"
   ]
  },
  {
   "cell_type": "code",
   "execution_count": 7,
   "metadata": {},
   "outputs": [
    {
     "name": "stdout",
     "output_type": "stream",
     "text": [
      "[3.2, 2.96, 3.0, 2.996, 2.99024]\n",
      "[0.05840734641020706, 0.18159265358979315, 0.14159265358979312, 0.14559265358979312, 0.1513526535897931]\n"
     ]
    }
   ],
   "source": [
    "import numpy as np\n",
    "import matplotlib.pyplot as plt\n",
    "\n",
    "N = [10, 100, 1000, 10000, 100000]\n",
    "H = []\n",
    "H_err = []\n",
    "\n",
    "r = 1\n",
    "\n",
    "pi_true = np.pi\n",
    "\n",
    "for n in N:\n",
    "    M = 0\n",
    "    P = 0\n",
    "    for i in range(n):\n",
    "        x = np.random.randint(-1,1.1)\n",
    "        y = np.random.randint(-1,1.1)\n",
    "        P += 1\n",
    "        if x ** 2 + y ** 2 <= 1: #then it is inside the circle\n",
    "            M += 1\n",
    "    H.append(4 * M / P)\n",
    "    H_err.append(abs(pi_true - 4 * M / P))\n",
    "        \n",
    "print(H)\n",
    "print(H_err)"
   ]
  },
  {
   "cell_type": "code",
   "execution_count": 8,
   "metadata": {},
   "outputs": [
    {
     "data": {
      "image/png": "[encoded data removed]",
      "text/plain": [
       "<Figure size 432x288 with 1 Axes>"
      ]
     },
     "metadata": {
      "needs_background": "light"
     },
     "output_type": "display_data"
    }
   ],
   "source": [
    "plt.loglog(N, H_err, '-o');"
   ]
  },
  {
   "cell_type": "code",
   "execution_count": null,
   "metadata": {},
   "outputs": [],
   "source": []
  }
 ],
 "metadata": {
  "kernelspec": {
   "display_name": "Python 3",
   "language": "python",
   "name": "python3"
  },
  "language_info": {
   "codemirror_mode": {
    "name": "ipython",
    "version": 3
   },
   "file_extension": ".py",
   "mimetype": "text/x-python",
   "name": "python",
   "nbconvert_exporter": "python",
   "pygments_lexer": "ipython3",
   "version": "3.7.3"
  }
 },
 "nbformat": 4,
 "nbformat_minor": 2
}
