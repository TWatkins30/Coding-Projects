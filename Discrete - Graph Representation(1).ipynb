{
 "cells": [
  {
   "cell_type": "code",
   "execution_count": 1,
   "metadata": {},
   "outputs": [],
   "source": [
    "import numpy as np \n",
    "import itertools"
   ]
  },
  {
   "cell_type": "markdown",
   "metadata": {},
   "source": [
    "# Graph Representation ~ Question 1"
   ]
  },
  {
   "cell_type": "code",
   "execution_count": 2,
   "metadata": {},
   "outputs": [],
   "source": [
    "class GRF_File:\n",
    "    def __init__(self):\n",
    "        pass\n",
    "    def file_import(self, file):\n",
    "        f = open(file)\n",
    "        str_data = f.readlines() # read all lines and save into str_data\n",
    "        data = [[float(element) for element in str.split()] \\\n",
    "            for str in str_data]\n",
    "        for row in data:\n",
    "            del row[1]\n",
    "            del row[1]\n",
    "        self.data = data\n",
    "        print(\"Data collected!\")\n",
    "    \n",
    "    def edge_list(self):\n",
    "        data = self.data # imports the data from the file\n",
    "        results = [] # empty list to keep final coordinates\n",
    "        \n",
    "        for count, record in enumerate(data): #leeping count of each list in data, storing each list in \"record\"\n",
    "            for num in record:\n",
    "                index = int(record[0]) #taking the first index of each \"record\"\n",
    "                first = [index, int(num)] # putting the coordinates of the index and the next number in the list\n",
    "                if int(num) > index: #NOT allowing iterations\n",
    "                    results.append(first) \n",
    "        self.results = results\n",
    "        return results\n",
    "                      \n",
    "    def adjacency_matrix(self):  \n",
    "        data = self.data #imports the data from the file\n",
    "        rows, columns = len(data), len(data) #taking the length of the data to create row and column vector\n",
    "        matrices = np.zeros([rows,columns]) # printing matrix of zeros\n",
    "        \n",
    "        for count, record in enumerate(data):\n",
    "            for num in record[1:]:\n",
    "                num = int(num)\n",
    "                matrices[count][num-1] = 1\n",
    "        return matrices\n",
    "    \n",
    "    def incidence_matrix(self):\n",
    "        results = self.results #importing results from edge list\n",
    "        data = self.data #importing the data from the file\n",
    "        rows, columns = len(results), len(data) #the rows equal the length of results and the columns = length of data\n",
    "        matrix = np.zeros([rows, columns]) #matrix of zeros with row and columns\n",
    "        \n",
    "        for count, record in enumerate(results): \n",
    "            for m, num in enumerate(record):\n",
    "                num = int(num)\n",
    "                matrix[count][num-1] = 1\n",
    "        return matrix\n",
    "    \n",
    "    def adjacency_structure(self):\n",
    "        data = self.data\n",
    "        for count,number in enumerate(data, 1):\n",
    "            print(f\"G{ {count} } = {number[1:]}\")"
   ]
  },
  {
   "cell_type": "code",
   "execution_count": 3,
   "metadata": {},
   "outputs": [
    {
     "name": "stdout",
     "output_type": "stream",
     "text": [
      "Data collected!\n"
     ]
    }
   ],
   "source": [
    "test = GRF_File()\n",
    "test.file_import('graph.grf') #you can put any file with the same format as the file in this object"
   ]
  },
  {
   "cell_type": "code",
   "execution_count": 4,
   "metadata": {},
   "outputs": [
    {
     "data": {
      "text/plain": [
       "[[1, 2], [1, 3], [2, 3], [3, 4]]"
      ]
     },
     "execution_count": 4,
     "metadata": {},
     "output_type": "execute_result"
    }
   ],
   "source": [
    "test.edge_list()"
   ]
  },
  {
   "cell_type": "code",
   "execution_count": 5,
   "metadata": {},
   "outputs": [
    {
     "data": {
      "text/plain": [
       "array([[0., 1., 1., 0., 0.],\n",
       "       [1., 0., 1., 0., 0.],\n",
       "       [1., 1., 0., 1., 0.],\n",
       "       [0., 0., 1., 0., 0.],\n",
       "       [0., 0., 0., 0., 0.]])"
      ]
     },
     "execution_count": 5,
     "metadata": {},
     "output_type": "execute_result"
    }
   ],
   "source": [
    "test.adjacency_matrix()"
   ]
  },
  {
   "cell_type": "code",
   "execution_count": 6,
   "metadata": {},
   "outputs": [
    {
     "name": "stdout",
     "output_type": "stream",
     "text": [
      "G{1} = [2.0, 3.0]\n",
      "G{2} = [1.0, 3.0]\n",
      "G{3} = [1.0, 2.0, 4.0]\n",
      "G{4} = [3.0]\n",
      "G{5} = []\n"
     ]
    }
   ],
   "source": [
    "test.adjacency_structure()"
   ]
  },
  {
   "cell_type": "code",
   "execution_count": 7,
   "metadata": {},
   "outputs": [
    {
     "data": {
      "text/plain": [
       "array([[1., 1., 0., 0., 0.],\n",
       "       [1., 0., 1., 0., 0.],\n",
       "       [0., 1., 1., 0., 0.],\n",
       "       [0., 0., 1., 1., 0.]])"
      ]
     },
     "execution_count": 7,
     "metadata": {},
     "output_type": "execute_result"
    }
   ],
   "source": [
    "test.incidence_matrix()"
   ]
  },
  {
   "cell_type": "markdown",
   "metadata": {},
   "source": [
    "# Question 1 ~ i"
   ]
  },
  {
   "cell_type": "code",
   "execution_count": 8,
   "metadata": {},
   "outputs": [],
   "source": [
    "#Alphabetized\n",
    "#1. Argentina\n",
    "#2. Bolivia\n",
    "#3. Brasil\n",
    "#4. Chile\n",
    "#5. Colombia\n",
    "#6. Ecuador\n",
    "#7. Guyana\n",
    "#8. Paraguay\n",
    "#9. Peru\n",
    "#10. Suriname\n",
    "#11. Uruguay\n",
    "#12. Venezuela"
   ]
  },
  {
   "cell_type": "markdown",
   "metadata": {},
   "source": [
    "# Question 1 ~ ii"
   ]
  },
  {
   "cell_type": "code",
   "execution_count": 9,
   "metadata": {},
   "outputs": [
    {
     "name": "stdout",
     "output_type": "stream",
     "text": [
      "Data collected!\n"
     ]
    }
   ],
   "source": [
    "countries = GRF_File()\n",
    "countries.file_import('countries.grf') #you can put any file with the same format as the file in this object"
   ]
  },
  {
   "cell_type": "code",
   "execution_count": 10,
   "metadata": {},
   "outputs": [
    {
     "data": {
      "text/plain": [
       "[[1, 2],\n",
       " [1, 3],\n",
       " [1, 4],\n",
       " [1, 8],\n",
       " [1, 11],\n",
       " [2, 3],\n",
       " [2, 4],\n",
       " [2, 8],\n",
       " [2, 9],\n",
       " [3, 5],\n",
       " [3, 7],\n",
       " [3, 8],\n",
       " [3, 9],\n",
       " [3, 10],\n",
       " [3, 11],\n",
       " [3, 12],\n",
       " [4, 9],\n",
       " [5, 6],\n",
       " [5, 9],\n",
       " [5, 12],\n",
       " [6, 9],\n",
       " [7, 10],\n",
       " [7, 12]]"
      ]
     },
     "execution_count": 10,
     "metadata": {},
     "output_type": "execute_result"
    }
   ],
   "source": [
    "countries.edge_list()"
   ]
  },
  {
   "cell_type": "code",
   "execution_count": 11,
   "metadata": {},
   "outputs": [
    {
     "data": {
      "text/plain": [
       "array([[0., 1., 1., 1., 0., 0., 0., 1., 0., 0., 1., 0.],\n",
       "       [1., 0., 1., 1., 0., 0., 0., 1., 1., 0., 0., 0.],\n",
       "       [1., 1., 0., 0., 1., 0., 1., 1., 1., 1., 1., 1.],\n",
       "       [1., 1., 0., 0., 0., 0., 0., 0., 1., 0., 0., 0.],\n",
       "       [0., 0., 1., 0., 0., 1., 0., 0., 1., 0., 0., 1.],\n",
       "       [0., 0., 0., 0., 1., 0., 0., 0., 1., 0., 0., 0.],\n",
       "       [0., 0., 1., 0., 0., 0., 0., 0., 0., 1., 0., 1.],\n",
       "       [1., 1., 1., 0., 0., 0., 0., 0., 0., 0., 0., 0.],\n",
       "       [0., 1., 1., 1., 1., 1., 0., 0., 0., 0., 0., 0.],\n",
       "       [0., 0., 1., 0., 0., 0., 1., 0., 0., 0., 0., 0.],\n",
       "       [1., 0., 1., 0., 0., 0., 0., 0., 0., 0., 0., 0.],\n",
       "       [0., 0., 1., 0., 1., 0., 1., 0., 0., 0., 0., 0.]])"
      ]
     },
     "execution_count": 11,
     "metadata": {},
     "output_type": "execute_result"
    }
   ],
   "source": [
    "countries.adjacency_matrix()"
   ]
  },
  {
   "cell_type": "code",
   "execution_count": 12,
   "metadata": {},
   "outputs": [
    {
     "name": "stdout",
     "output_type": "stream",
     "text": [
      "G{1} = [2.0, 3.0, 4.0, 8.0, 11.0]\n",
      "G{2} = [1.0, 3.0, 4.0, 8.0, 9.0]\n",
      "G{3} = [1.0, 2.0, 5.0, 7.0, 8.0, 9.0, 10.0, 11.0, 12.0]\n",
      "G{4} = [1.0, 2.0, 9.0]\n",
      "G{5} = [3.0, 6.0, 9.0, 12.0]\n",
      "G{6} = [5.0, 9.0]\n",
      "G{7} = [3.0, 10.0, 12.0]\n",
      "G{8} = [1.0, 2.0, 3.0]\n",
      "G{9} = [2.0, 3.0, 4.0, 5.0, 6.0]\n",
      "G{10} = [3.0, 7.0]\n",
      "G{11} = [1.0, 3.0]\n",
      "G{12} = [3.0, 5.0, 7.0]\n"
     ]
    }
   ],
   "source": [
    "countries.adjacency_structure()"
   ]
  },
  {
   "cell_type": "code",
   "execution_count": 13,
   "metadata": {},
   "outputs": [
    {
     "data": {
      "text/plain": [
       "array([[1., 1., 0., 0., 0., 0., 0., 0., 0., 0., 0., 0.],\n",
       "       [1., 0., 1., 0., 0., 0., 0., 0., 0., 0., 0., 0.],\n",
       "       [1., 0., 0., 1., 0., 0., 0., 0., 0., 0., 0., 0.],\n",
       "       [1., 0., 0., 0., 0., 0., 0., 1., 0., 0., 0., 0.],\n",
       "       [1., 0., 0., 0., 0., 0., 0., 0., 0., 0., 1., 0.],\n",
       "       [0., 1., 1., 0., 0., 0., 0., 0., 0., 0., 0., 0.],\n",
       "       [0., 1., 0., 1., 0., 0., 0., 0., 0., 0., 0., 0.],\n",
       "       [0., 1., 0., 0., 0., 0., 0., 1., 0., 0., 0., 0.],\n",
       "       [0., 1., 0., 0., 0., 0., 0., 0., 1., 0., 0., 0.],\n",
       "       [0., 0., 1., 0., 1., 0., 0., 0., 0., 0., 0., 0.],\n",
       "       [0., 0., 1., 0., 0., 0., 1., 0., 0., 0., 0., 0.],\n",
       "       [0., 0., 1., 0., 0., 0., 0., 1., 0., 0., 0., 0.],\n",
       "       [0., 0., 1., 0., 0., 0., 0., 0., 1., 0., 0., 0.],\n",
       "       [0., 0., 1., 0., 0., 0., 0., 0., 0., 1., 0., 0.],\n",
       "       [0., 0., 1., 0., 0., 0., 0., 0., 0., 0., 1., 0.],\n",
       "       [0., 0., 1., 0., 0., 0., 0., 0., 0., 0., 0., 1.],\n",
       "       [0., 0., 0., 1., 0., 0., 0., 0., 1., 0., 0., 0.],\n",
       "       [0., 0., 0., 0., 1., 1., 0., 0., 0., 0., 0., 0.],\n",
       "       [0., 0., 0., 0., 1., 0., 0., 0., 1., 0., 0., 0.],\n",
       "       [0., 0., 0., 0., 1., 0., 0., 0., 0., 0., 0., 1.],\n",
       "       [0., 0., 0., 0., 0., 1., 0., 0., 1., 0., 0., 0.],\n",
       "       [0., 0., 0., 0., 0., 0., 1., 0., 0., 1., 0., 0.],\n",
       "       [0., 0., 0., 0., 0., 0., 1., 0., 0., 0., 0., 1.]])"
      ]
     },
     "execution_count": 13,
     "metadata": {},
     "output_type": "execute_result"
    }
   ],
   "source": [
    "countries.incidence_matrix()"
   ]
  },
  {
   "cell_type": "markdown",
   "metadata": {},
   "source": [
    "# Question 1 ~ iii"
   ]
  },
  {
   "cell_type": "code",
   "execution_count": 15,
   "metadata": {},
   "outputs": [
    {
     "data": {
      "text/plain": [
       "array([11., 10.,  8.,  4.,  5.,  2.,  3.,  6., 10.,  3.,  4.,  4.])"
      ]
     },
     "execution_count": 15,
     "metadata": {},
     "output_type": "execute_result"
    }
   ],
   "source": [
    "A = countries.adjacency_matrix()\n",
    "Chile = [0,0,0,1,0,0,0,0,0,0,0,0]\n",
    "two = np.dot(A, Chile)\n",
    "three = np.dot(A, two)\n",
    "four = np.dot(A, three)\n",
    "four"
   ]
  },
  {
   "cell_type": "code",
   "execution_count": 16,
   "metadata": {},
   "outputs": [
    {
     "data": {
      "text/plain": [
       "array([11., 10.,  8.,  4.,  5.,  2.,  3.,  6., 10.,  3.,  4.,  4.])"
      ]
     },
     "execution_count": 16,
     "metadata": {},
     "output_type": "execute_result"
    }
   ],
   "source": [
    "#Answer: You must vist at least 4 countries.\n",
    "\n",
    "#Answer: There are 4 shortest paths\n",
    "#4/9/5/12 :: Chile->Peru->Columbia->Venezuela\n",
    "#4/9/3/12 :: Chile->Peru->Brasil->Venezuela\n",
    "#4/2/3/12 :: Chile->Bolivia->Brasil->Venezuela\n",
    "#4/1/3/12 :: Chile->Argentina->Brasil->Venezuela\n",
    "bl = np.linalg.matrix_power(A, 3).dot(Chile)\n",
    "bl"
   ]
  },
  {
   "cell_type": "markdown",
   "metadata": {},
   "source": [
    "# Question 1 ~ iv"
   ]
  },
  {
   "cell_type": "code",
   "execution_count": 17,
   "metadata": {},
   "outputs": [
    {
     "data": {
      "text/plain": [
       "array([14789., 15989., 22207., 10088., 11106.,  5650.,  8195., 11604.,\n",
       "       14042.,  6522.,  8061.,  8972.])"
      ]
     },
     "execution_count": 17,
     "metadata": {},
     "output_type": "execute_result"
    }
   ],
   "source": [
    "eight_walks = np.linalg.matrix_power(A, 8).dot(Chile)\n",
    "eight_walks"
   ]
  },
  {
   "cell_type": "code",
   "execution_count": 18,
   "metadata": {},
   "outputs": [
    {
     "data": {
      "text/plain": [
       "137225.0"
      ]
     },
     "execution_count": 18,
     "metadata": {},
     "output_type": "execute_result"
    }
   ],
   "source": [
    "eight_walks.sum()"
   ]
  }
 ],
 "metadata": {
  "kernelspec": {
   "display_name": "Python 3",
   "language": "python",
   "name": "python3"
  },
  "language_info": {
   "codemirror_mode": {
    "name": "ipython",
    "version": 3
   },
   "file_extension": ".py",
   "mimetype": "text/x-python",
   "name": "python",
   "nbconvert_exporter": "python",
   "pygments_lexer": "ipython3",
   "version": "3.7.3"
  }
 },
 "nbformat": 4,
 "nbformat_minor": 2
}
