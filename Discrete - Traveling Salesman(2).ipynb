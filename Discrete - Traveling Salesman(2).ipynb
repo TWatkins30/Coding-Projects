{
 "cells": [
  {
   "cell_type": "code",
   "execution_count": 1,
   "metadata": {},
   "outputs": [],
   "source": [
    "import itertools\n",
    "import numpy as np"
   ]
  },
  {
   "cell_type": "code",
   "execution_count": 2,
   "metadata": {},
   "outputs": [],
   "source": [
    "# doesn't work if there is text in the file\n",
    "f = open('Traveling.txt')\n",
    "str_data = f.readlines() # read all lines and save into str_data\n",
    "locations = [[float(element) for element in str.split()] \\\n",
    "        for str in str_data] # convert string to number\n",
    "#locations"
   ]
  },
  {
   "cell_type": "code",
   "execution_count": 3,
   "metadata": {},
   "outputs": [
    {
     "data": {
      "text/plain": [
       "[[1.0, 2.0],\n",
       " [1.0, 3.0],\n",
       " [1.0, 6.0],\n",
       " [1.0, 7.0],\n",
       " [1.0, 8.0],\n",
       " [2.0, 3.0],\n",
       " [2.0, 7.0],\n",
       " [3.0, 4.0],\n",
       " [3.0, 8.0],\n",
       " [4.0, 8.0],\n",
       " [5.0, 6.0],\n",
       " [5.0, 7.0],\n",
       " [5.0, 8.0],\n",
       " [6.0, 7.0],\n",
       " [6.0, 8.0]]"
      ]
     },
     "execution_count": 3,
     "metadata": {},
     "output_type": "execute_result"
    }
   ],
   "source": [
    "total = [] # all the connections bewteen two cities\n",
    "weights = [] # the total distance between all the cities\n",
    "numbers = []\n",
    "for count, locs in enumerate(locations):\n",
    "    city1 = locs[0]    # Gets the location of the first city\n",
    "    city2 = locs[1]     # Gets the location of the second city\n",
    "    distances = locs[2]    # Gets the distance between the two cities\n",
    "    connection = [city1, city2]    # makes a connection list of the two cities\n",
    "    total.append(connection);weights.append(distances);numbers.append(max(locs))\n",
    "mat_length = int(max(numbers)) # gathers the total number of connections \n",
    "total # <--- SHOWS THE TOTAL NUMBER OF CONNECTIONS"
   ]
  },
  {
   "cell_type": "code",
   "execution_count": 4,
   "metadata": {},
   "outputs": [
    {
     "data": {
      "text/plain": [
       "[4.0,\n",
       " 6.0,\n",
       " 2.25,\n",
       " 3.75,\n",
       " 4.25,\n",
       " 5.5,\n",
       " 6.5,\n",
       " 5.0,\n",
       " 2.5,\n",
       " 7.0,\n",
       " 2.5,\n",
       " 6.25,\n",
       " 3.5,\n",
       " 4.0,\n",
       " 3.75]"
      ]
     },
     "execution_count": 4,
     "metadata": {},
     "output_type": "execute_result"
    }
   ],
   "source": [
    "weights"
   ]
  },
  {
   "cell_type": "code",
   "execution_count": 5,
   "metadata": {},
   "outputs": [
    {
     "data": {
      "text/plain": [
       "array([[0.  , 4.  , 6.  ,  inf,  inf, 2.25, 3.75, 4.25],\n",
       "       [4.  , 0.  , 5.5 ,  inf,  inf,  inf, 6.5 ,  inf],\n",
       "       [6.  , 5.5 , 0.  , 5.  ,  inf,  inf,  inf, 2.5 ],\n",
       "       [ inf,  inf, 5.  , 0.  ,  inf,  inf,  inf, 7.  ],\n",
       "       [ inf,  inf,  inf,  inf, 0.  , 2.5 , 6.25, 3.5 ],\n",
       "       [2.25,  inf,  inf,  inf, 2.5 , 0.  , 4.  , 3.75],\n",
       "       [3.75, 6.5 ,  inf,  inf, 6.25, 4.  , 0.  ,  inf],\n",
       "       [4.25,  inf, 2.5 , 7.  , 3.5 , 3.75,  inf, 0.  ]])"
      ]
     },
     "execution_count": 5,
     "metadata": {},
     "output_type": "execute_result"
    }
   ],
   "source": [
    "matrix = np.ones([mat_length,mat_length]) * np.inf  # creates a nxn matrix of infinity of the total length\n",
    "for n in range(0, (mat_length*2)-1):\n",
    "    connection = total[n]  # looping therough each connection between two cities\n",
    "    first = connection[0]; first = int(first)  # first city in the connection\n",
    "    second = connection[1]; second = int(second)  # second city in the connection\n",
    "    matrix[first-1][second-1] = weights[n]; matrix[second-1][first-1] = weights[n]  # taking the city distances and mapping it on the matrix\n",
    "    for i in range(0,mat_length):\n",
    "        for j in range(0,mat_length):\n",
    "            if i == j:\n",
    "                matrix[i][j] = 0\n",
    "matrix"
   ]
  },
  {
   "cell_type": "code",
   "execution_count": 6,
   "metadata": {},
   "outputs": [],
   "source": [
    "myList = [2,3,4,5,6,7,8] # NOT starting & ending the routes at \"1\" because that's where we start\n",
    "                         # we only need the permutations from \"2-8\" and then once that step is complete \n",
    "                         # we can add \"1\" to the beginning and end of the list and find the connections between those numbers\n",
    "\n",
    "all_perms = list(itertools.permutations(myList)) # list of tuples\n",
    "all_perms = [list(x) for x in all_perms]  # convert to list of lists"
   ]
  },
  {
   "cell_type": "code",
   "execution_count": 7,
   "metadata": {},
   "outputs": [],
   "source": [
    "def routes(iterations):\n",
    "    overall = []; outcome = []  # overall is to keep the total distance between a round trip going from city[0] to city[-1]\n",
    "                                # outcome are keeping track of the routes\n",
    "    for counter, perm in enumerate(all_perms):\n",
    "        add = 0  # counter variable\n",
    "        for n in range(0, len(perm)-1):\n",
    "            begin = perm[n]; end = perm[n+1]  # begin: the beginning number in the index, end: the next number in the list\n",
    "            number = matrix[begin-1][end-1]  # finding the distance of the two numbers on the matrix to grab the distance\n",
    "            add = add + number  # store that number in add and keep repeating until the end of list\n",
    "        if add < np.inf:  # if function to through away distances that are huge and to keep the smallest distances\n",
    "            overall.append(add); outcome.append(perm)  # stores the smallest distances and routes in there appropriate lists\n",
    "    return overall, outcome\n",
    "length, width = routes(all_perms) # length: distances width:routes"
   ]
  },
  {
   "cell_type": "code",
   "execution_count": 8,
   "metadata": {},
   "outputs": [],
   "source": [
    "for wide in width: # adding one two the beginning and end of the list because that's where we start and end\n",
    "    wide.insert(0,1)\n",
    "    wide.insert(len(wide),1)"
   ]
  },
  {
   "cell_type": "code",
   "execution_count": 9,
   "metadata": {},
   "outputs": [],
   "source": [
    "# Repeating the steps to find the shortest routes\n",
    "over = [] # overall of distances\n",
    "out = []  # outcome of all routes\n",
    "for counte, per in enumerate(width):\n",
    "    u = 0 # counter variable\n",
    "    for n in range(0, len(per)-1):\n",
    "        begin = per[n]; end = per[n+1]\n",
    "        numbe = matrix[begin-1][end-1]\n",
    "        u = u + numbe\n",
    "    if u < np.inf:\n",
    "        over.append(u); out.append(per)"
   ]
  },
  {
   "cell_type": "code",
   "execution_count": 10,
   "metadata": {},
   "outputs": [
    {
     "name": "stdout",
     "output_type": "stream",
     "text": [
      "1. Route: [1, 2, 3, 4, 8, 5, 6, 7, 1] has a distance of 35.25 hours.\n",
      "2. Route: [1, 2, 3, 4, 8, 5, 7, 6, 1] has a distance of 37.5 hours.\n",
      "3. Route: [1, 2, 3, 4, 8, 6, 5, 7, 1] has a distance of 37.75 hours.\n",
      "4. Route: [1, 2, 7, 5, 6, 8, 4, 3, 1] has a distance of 41.0 hours.\n",
      "5. Route: [1, 2, 7, 6, 5, 8, 4, 3, 1] has a distance of 38.5 hours.\n",
      "6. Route: [1, 3, 4, 8, 5, 6, 7, 2, 1] has a distance of 38.5 hours.\n",
      "7. Route: [1, 3, 4, 8, 6, 5, 7, 2, 1] has a distance of 41.0 hours.\n",
      "8. Route: [1, 6, 5, 7, 2, 3, 4, 8, 1] has a distance of 39.25 hours.\n",
      "9. Route: [1, 6, 5, 8, 4, 3, 2, 7, 1] has a distance of 36.0 hours.\n",
      "10. Route: [1, 6, 7, 5, 8, 4, 3, 2, 1] has a distance of 37.5 hours.\n",
      "11. Route: [1, 7, 2, 3, 4, 8, 5, 6, 1] has a distance of 36.0 hours.\n",
      "12. Route: [1, 7, 5, 6, 8, 4, 3, 2, 1] has a distance of 37.75 hours.\n",
      "13. Route: [1, 7, 6, 5, 8, 4, 3, 2, 1] has a distance of 35.25 hours.\n"
     ]
    }
   ],
   "source": [
    "for i in range(0, len(over)-1):\n",
    "    print(f\"{i+1}. Route: {out[i]} has a distance of {over[i]} hours.\")  # printing out the rates and there corresponding distances"
   ]
  },
  {
   "cell_type": "code",
   "execution_count": 11,
   "metadata": {},
   "outputs": [
    {
     "name": "stdout",
     "output_type": "stream",
     "text": [
      "35.25\n"
     ]
    }
   ],
   "source": [
    "x = 100\n",
    "for h in range(0, len(over)):\n",
    "    if over[h] < x:\n",
    "        x = over[h]\n",
    "print(x)"
   ]
  },
  {
   "cell_type": "code",
   "execution_count": 12,
   "metadata": {},
   "outputs": [
    {
     "data": {
      "text/plain": [
       "[0, 12]"
      ]
     },
     "execution_count": 12,
     "metadata": {},
     "output_type": "execute_result"
    }
   ],
   "source": [
    "directory = []\n",
    "for ind in range(len(over)):\n",
    "    if over[ind] == 35.25:\n",
    "        directory.append(ind)\n",
    "directory"
   ]
  },
  {
   "cell_type": "code",
   "execution_count": 13,
   "metadata": {},
   "outputs": [
    {
     "name": "stdout",
     "output_type": "stream",
     "text": [
      "1. Routes: [1, 2, 3, 4, 8, 5, 6, 7, 1] with a time of 35.25 hours.\n",
      "2. Routes: [1, 7, 6, 5, 8, 4, 3, 2, 1] with a time of 35.25 hours.\n"
     ]
    }
   ],
   "source": [
    "for count, key in  enumerate(directory,1):\n",
    "    print(f\"{count}. Routes: {out[key]} with a time of {x} hours.\")"
   ]
  }
 ],
 "metadata": {
  "kernelspec": {
   "display_name": "Python 3",
   "language": "python",
   "name": "python3"
  },
  "language_info": {
   "codemirror_mode": {
    "name": "ipython",
    "version": 3
   },
   "file_extension": ".py",
   "mimetype": "text/x-python",
   "name": "python",
   "nbconvert_exporter": "python",
   "pygments_lexer": "ipython3",
   "version": "3.7.3"
  }
 },
 "nbformat": 4,
 "nbformat_minor": 2
}
