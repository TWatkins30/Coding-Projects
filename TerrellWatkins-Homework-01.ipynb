{
 "cells": [
  {
   "cell_type": "markdown",
   "metadata": {},
   "source": [
    "# QUESTION 1:\n",
    "\n",
    "Error: Missing parentheses in call to print. Did you mean print e pluribus unum?\n",
    "\n",
    "Explanation: To print the word, there needs to be parentheses following print and/or before and after the quoted sentence.\n",
    "\n",
    "Fixed the code: e pluribus unum"
   ]
  },
  {
   "cell_type": "code",
   "execution_count": 1,
   "metadata": {},
   "outputs": [
    {
     "name": "stdout",
     "output_type": "stream",
     "text": [
      "e pluribus unum\n"
     ]
    }
   ],
   "source": [
    "\n",
    "print(\"e pluribus unum\")"
   ]
  },
  {
   "cell_type": "markdown",
   "metadata": {},
   "source": [
    "# QUESTION 1:\n",
    "Error: NameError: name 'group2' is not defined\n",
    "\n",
    "Explanation: 'group2' is not defined. 'group_2' is the word that is defined\n",
    "\n",
    "Fix the code: 75\n"
   ]
  },
  {
   "cell_type": "code",
   "execution_count": 2,
   "metadata": {},
   "outputs": [
    {
     "name": "stdout",
     "output_type": "stream",
     "text": [
      "75\n"
     ]
    }
   ],
   "source": [
    "group_1 = 50\n",
    "group_2 = 25\n",
    "total = group_1 + group_2\n",
    "print(total)"
   ]
  },
  {
   "cell_type": "markdown",
   "metadata": {},
   "source": [
    "# QUESTION 1\n",
    "Error:TypeError: unsupported operand type(s) for +: int and str\n",
    "\n",
    "Explanation: 2 is an integer and chainz is a string. You can not combine a string and an integer. It has to be a string and string or an integer and integer.\n",
    "\n",
    "Fix the code: twochainz"
   ]
  },
  {
   "cell_type": "code",
   "execution_count": 3,
   "metadata": {},
   "outputs": [
    {
     "name": "stdout",
     "output_type": "stream",
     "text": [
      "twochainz\n"
     ]
    }
   ],
   "source": [
    "name = 'two' + 'chainz'\n",
    "print(name)"
   ]
  },
  {
   "cell_type": "markdown",
   "metadata": {},
   "source": [
    "# Question 1\n",
    "Error: Indention Error: unindent does not match any outer indention level\n",
    "\n",
    "Explanation: the indention is not an indention created by the computer and also the the print(i) statement would need to align with the for loops indention format\n",
    "\n",
    "Fixe the code:\n",
    "\n",
    "for i in range(3):\n",
    "    print(\"Testing\")\n",
    "    print(i)"
   ]
  },
  {
   "cell_type": "code",
   "execution_count": 4,
   "metadata": {},
   "outputs": [
    {
     "name": "stdout",
     "output_type": "stream",
     "text": [
      "Testing\n",
      "0\n",
      "Testing\n",
      "1\n",
      "Testing\n",
      "2\n"
     ]
    }
   ],
   "source": [
    "for i in range(3):\n",
    "    print(\"Testing\")\n",
    "    print(i)"
   ]
  },
  {
   "cell_type": "markdown",
   "metadata": {},
   "source": [
    "# QUESTION 2\n",
    "F = 88\n",
    "# Your Code Here #\n",
    "#----------------#\n",
    "C = ((5/9)*(F - 32))\n",
    "#----------------#\n",
    "print(f'{F:.1f} degrees fahrenheit is {C:.1f} degrees celsius')"
   ]
  },
  {
   "cell_type": "code",
   "execution_count": 5,
   "metadata": {},
   "outputs": [
    {
     "name": "stdout",
     "output_type": "stream",
     "text": [
      "28.0 degrees fahrenheit is -2.2 degrees celsius\n"
     ]
    }
   ],
   "source": [
    "F = 28\n",
    "C = ((5/9)*(F - 32))\n",
    "#----------------#\n",
    "print(f'{F:.1f} degrees fahrenheit is {C:.1f} degrees celsius')"
   ]
  },
  {
   "cell_type": "markdown",
   "metadata": {},
   "source": [
    "# QUESTION 3\n",
    "Error: There is no code \n",
    "\n",
    "Explanation: Need to correctly input the formula following the rules of PEMDA\n",
    "\n",
    "Fixe the code:\n"
   ]
  },
  {
   "cell_type": "code",
   "execution_count": 6,
   "metadata": {},
   "outputs": [
    {
     "name": "stdout",
     "output_type": "stream",
     "text": [
      "0.24894777997569387\n"
     ]
    }
   ],
   "source": [
    "from math import pi, sqrt, exp\n",
    "\n",
    "x = 1\n",
    "m = 0\n",
    "s = 2\n",
    "\n",
    "# Your Code Here #\n",
    "#----------------#\n",
    "\n",
    "f = (1/(sqrt(2*pi*s)))*exp((-1/2)*((x-m)/s)**2)\n",
    "\n",
    "#----------------#\n",
    "print(f)"
   ]
  },
  {
   "cell_type": "markdown",
   "metadata": {},
   "source": [
    "# Question 4\n",
    "\n",
    "Error: There is no code\n",
    "\n",
    "Explanation: Need to use slicing and indexing to create a new DNA sequence.\n",
    "\n",
    "Fixe the code:"
   ]
  },
  {
   "cell_type": "code",
   "execution_count": 9,
   "metadata": {},
   "outputs": [
    {
     "name": "stdout",
     "output_type": "stream",
     "text": [
      "TGAACATTAAGT\n",
      "TATACAAGTTGAACATTAAGT\n"
     ]
    }
   ],
   "source": [
    "dna  =  \"TGAACATTAAGT\"\n",
    "pattern = \"TGAA\"\n",
    "\n",
    "# invert pattern\n",
    "# HINT: use slicing with negative step size\n",
    "pattern_inv = pattern[::-1]\n",
    "\n",
    "# find end index of first occurence of pattern\n",
    "# HINT: use the find() method to find the index in DNA sequence where pattern starts, \n",
    "# then add the length of the pattern\n",
    "index1 = pattern.find(pattern) + len(pattern)\n",
    "\n",
    "# find beginning of first occurence of inverted pattern\n",
    "# HINT: Again use the find() method \n",
    "index2 = pattern_inv.find(pattern_inv) \n",
    "\n",
    "# concatenate everything together\n",
    "# HINT: mutated DNA will look like:\n",
    "# (dna from 0 up to index1 - 1) + (reverse dna from index1 to index2 - 1) + (dna from index2 to the end)\n",
    "dna_mut = dna[::index1 -1] + dna[index1::index2-1] + dna[index2::]\n",
    "\n",
    "# print results\n",
    "print(dna)\n",
    "print(dna_mut)"
   ]
  },
  {
   "cell_type": "code",
   "execution_count": null,
   "metadata": {},
   "outputs": [],
   "source": []
  }
 ],
 "metadata": {
  "kernelspec": {
   "display_name": "Python 3",
   "language": "python",
   "name": "python3"
  },
  "language_info": {
   "codemirror_mode": {
    "name": "ipython",
    "version": 3
   },
   "file_extension": ".py",
   "mimetype": "text/x-python",
   "name": "python",
   "nbconvert_exporter": "python",
   "pygments_lexer": "ipython3",
   "version": "3.7.3"
  }
 },
 "nbformat": 4,
 "nbformat_minor": 2
}
