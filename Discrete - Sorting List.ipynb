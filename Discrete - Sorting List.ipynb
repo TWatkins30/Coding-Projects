{
 "cells": [
  {
   "cell_type": "code",
   "execution_count": 1,
   "metadata": {},
   "outputs": [],
   "source": [
    "import numpy as np\n",
    "import pandas as pd\n",
    "import math"
   ]
  },
  {
   "cell_type": "markdown",
   "metadata": {},
   "source": [
    "# Terrell Watkins: Lab 1: Algorithm Design and Analysis - August 28, 2019"
   ]
  },
  {
   "cell_type": "markdown",
   "metadata": {},
   "source": [
    "# QUESTION 1"
   ]
  },
  {
   "cell_type": "code",
   "execution_count": 2,
   "metadata": {
    "scrolled": true
   },
   "outputs": [
    {
     "name": "stdout",
     "output_type": "stream",
     "text": [
      "Initial List: [26, 92, 87, 76, 72, 60, 21, 74, 31, 21, 57, 47, 48, 29, 78, 79, 83, 17, 96, 98, 76, 65, 10, 54, 90]\n",
      "Index: [ 1  2  3  4  5  6  7  8  9 10 11 12 13 14 15 16 17 18 19 20 21 22 23 24\n",
      " 25]\n",
      "Sorted List: [10, 17, 21, 21, 26, 29, 31, 47, 48, 54, 57, 60, 65, 72, 74, 76, 76, 78, 79, 83, 87, 90, 92, 96, 98]\n",
      "Sorted Index: [23 18  7 10  1 14  9 12 13 24 11  6 22  5  8 21  4 15 16 17  3 25  2 19\n",
      " 20]\n"
     ]
    }
   ],
   "source": [
    "#Selection Sorting\n",
    "\n",
    "#Testing Algorithm with 25 random;y generated real numbers with range from 0 - 100\n",
    "N = 25\n",
    "list_of_numbers = []\n",
    "for i in range(N):\n",
    "    list_of_numbers.append(np.random.randint(1, 101))\n",
    "\n",
    "#Beginning of my selection sort algorithm \n",
    "def Selection_Sorting(numberlist):\n",
    "    print(f\"Initial List: {numberlist}\")\n",
    "    index_vector = np.arange(1, len(numberlist)+1) #Indexing vectors\n",
    "    print(f\"Index: {index_vector}\")\n",
    "    \n",
    "    for i in range(len(numberlist)):\n",
    "        minimum_location = i\n",
    "        for j in range(i+1, len(numberlist)):\n",
    "            if(numberlist[j] < numberlist[minimum_location]):\n",
    "                minimum_location = j\n",
    "        number_hold = numberlist[minimum_location]\n",
    "        numberlist[minimum_location] = numberlist[i]\n",
    "        numberlist[i] = number_hold\n",
    "        \n",
    "        index_hold = index_vector[minimum_location]\n",
    "        index_vector[minimum_location] = index_vector[i]\n",
    "        index_vector[i] = index_hold  \n",
    "    print(f\"Sorted List: {numberlist}\")\n",
    "    print(f\"Sorted Index: {index_vector}\") \n",
    "    \n",
    "Selection_Sorting(list_of_numbers)\n",
    "#Do the python sorting function and see if it changes anything"
   ]
  },
  {
   "cell_type": "markdown",
   "metadata": {},
   "source": [
    "# QUESTION 2"
   ]
  },
  {
   "cell_type": "code",
   "execution_count": 3,
   "metadata": {},
   "outputs": [
    {
     "name": "stdout",
     "output_type": "stream",
     "text": [
      "Initial List: [68, 53, 96, 25, 40, 26, 3, 36, 64, 27, 89, 87, 75, 68, 18, 56, 0, 81, 1, 73, 26, 1, 45, 46, 23]\n",
      "Index: [ 1  2  3  4  5  6  7  8  9 10 11 12 13 14 15 16 17 18 19 20 21 22 23 24\n",
      " 25]\n",
      "Sorted List: [0, 1, 1, 3, 18, 23, 25, 26, 26, 27, 36, 40, 45, 46, 53, 56, 64, 68, 68, 73, 75, 81, 87, 89, 96]\n",
      "Sorted Index: [17 19 22  7 15 25  4  6 21 10  8  5 23 24  2 16  9  1 14 20 13 18 12 11\n",
      "  3]\n"
     ]
    }
   ],
   "source": [
    "#Bubble Sorting\n",
    "\n",
    "#My personal example\n",
    "numbers_list = []\n",
    "for i in range(N):\n",
    "    numbers_list.append(np.random.randint(0,101))\n",
    "\n",
    "def Bubble_Sorting(number_list):\n",
    "    print(f\"Initial List: {number_list}\")\n",
    "    bubble_index_vector = np.arange(1, len(number_list)+1)\n",
    "    print(f\"Index: {bubble_index_vector}\")\n",
    "\n",
    "    for i in range(len(number_list)):\n",
    "        for j in range(len(number_list)-1):\n",
    "            if number_list[j] > number_list[j+1]:\n",
    "                hold_number = number_list[j+1]\n",
    "                number_list[j+1] = number_list[j]\n",
    "                number_list[j] = hold_number\n",
    "                \n",
    "                hold_index = bubble_index_vector[j+1]\n",
    "                bubble_index_vector[j+1] = bubble_index_vector[j]\n",
    "                bubble_index_vector[j] = hold_index           \n",
    "    print(f\"Sorted List: {number_list}\")\n",
    "    print(f\"Sorted Index: {bubble_index_vector}\")\n",
    "    \n",
    "Bubble_Sorting(numbers_list)"
   ]
  },
  {
   "cell_type": "markdown",
   "metadata": {},
   "source": [
    "# QUESTION 3"
   ]
  },
  {
   "cell_type": "code",
   "execution_count": 4,
   "metadata": {},
   "outputs": [],
   "source": [
    "#Basic Application of Sorting\n",
    "#Importing the file\n",
    "data = pd.read_csv('stores_location.dat', delim_whitespace = True,\n",
    "                    names = ('store', 'city', 'latitude', 'N', 'longitude', 'W'))"
   ]
  },
  {
   "cell_type": "code",
   "execution_count": 5,
   "metadata": {},
   "outputs": [
    {
     "data": {
      "text/html": [
       "<div>\n",
       "<style scoped>\n",
       "    .dataframe tbody tr th:only-of-type {\n",
       "        vertical-align: middle;\n",
       "    }\n",
       "\n",
       "    .dataframe tbody tr th {\n",
       "        vertical-align: top;\n",
       "    }\n",
       "\n",
       "    .dataframe thead th {\n",
       "        text-align: right;\n",
       "    }\n",
       "</style>\n",
       "<table border=\"1\" class=\"dataframe\">\n",
       "  <thead>\n",
       "    <tr style=\"text-align: right;\">\n",
       "      <th></th>\n",
       "      <th>store</th>\n",
       "      <th>city</th>\n",
       "      <th>latitude</th>\n",
       "      <th>N</th>\n",
       "      <th>longitude</th>\n",
       "      <th>W</th>\n",
       "    </tr>\n",
       "  </thead>\n",
       "  <tbody>\n",
       "    <tr>\n",
       "      <th>0</th>\n",
       "      <td>store#1</td>\n",
       "      <td>Tallahassee</td>\n",
       "      <td>30.4550</td>\n",
       "      <td>N</td>\n",
       "      <td>84.2533</td>\n",
       "      <td>W</td>\n",
       "    </tr>\n",
       "    <tr>\n",
       "      <th>1</th>\n",
       "      <td>store#2</td>\n",
       "      <td>Gainesville</td>\n",
       "      <td>29.6520</td>\n",
       "      <td>N</td>\n",
       "      <td>82.3250</td>\n",
       "      <td>W</td>\n",
       "    </tr>\n",
       "    <tr>\n",
       "      <th>2</th>\n",
       "      <td>store#3</td>\n",
       "      <td>Miami</td>\n",
       "      <td>25.7753</td>\n",
       "      <td>N</td>\n",
       "      <td>80.2089</td>\n",
       "      <td>W</td>\n",
       "    </tr>\n",
       "    <tr>\n",
       "      <th>3</th>\n",
       "      <td>store#4</td>\n",
       "      <td>Jacksonville</td>\n",
       "      <td>30.3369</td>\n",
       "      <td>N</td>\n",
       "      <td>81.6614</td>\n",
       "      <td>W</td>\n",
       "    </tr>\n",
       "    <tr>\n",
       "      <th>4</th>\n",
       "      <td>store#5</td>\n",
       "      <td>Tampa</td>\n",
       "      <td>27.9681</td>\n",
       "      <td>N</td>\n",
       "      <td>82.4764</td>\n",
       "      <td>W</td>\n",
       "    </tr>\n",
       "    <tr>\n",
       "      <th>5</th>\n",
       "      <td>store#6</td>\n",
       "      <td>Orlando</td>\n",
       "      <td>28.4158</td>\n",
       "      <td>N</td>\n",
       "      <td>81.2989</td>\n",
       "      <td>W</td>\n",
       "    </tr>\n",
       "    <tr>\n",
       "      <th>6</th>\n",
       "      <td>store#7</td>\n",
       "      <td>Hialeah</td>\n",
       "      <td>25.8606</td>\n",
       "      <td>N</td>\n",
       "      <td>80.2939</td>\n",
       "      <td>W</td>\n",
       "    </tr>\n",
       "  </tbody>\n",
       "</table>\n",
       "</div>"
      ],
      "text/plain": [
       "     store          city  latitude  N  longitude  W\n",
       "0  store#1   Tallahassee   30.4550  N    84.2533  W\n",
       "1  store#2   Gainesville   29.6520  N    82.3250  W\n",
       "2  store#3         Miami   25.7753  N    80.2089  W\n",
       "3  store#4  Jacksonville   30.3369  N    81.6614  W\n",
       "4  store#5         Tampa   27.9681  N    82.4764  W\n",
       "5  store#6       Orlando   28.4158  N    81.2989  W\n",
       "6  store#7       Hialeah   25.8606  N    80.2939  W"
      ]
     },
     "execution_count": 5,
     "metadata": {},
     "output_type": "execute_result"
    }
   ],
   "source": [
    "data #printing out the data on the file "
   ]
  },
  {
   "cell_type": "code",
   "execution_count": 6,
   "metadata": {},
   "outputs": [
    {
     "name": "stdout",
     "output_type": "stream",
     "text": [
      "[30.455, 29.652, 25.7753, 30.3369, 27.9681, 28.4158, 25.8606]\n",
      "[84.2533, 82.325, 80.2089, 81.6614, 82.4764, 81.2989, 80.2939]\n",
      "0     Tallahassee\n",
      "1     Gainesville\n",
      "2           Miami\n",
      "3    Jacksonville\n",
      "4           Tampa\n",
      "5         Orlando\n",
      "6         Hialeah\n",
      "Name: city, dtype: object\n"
     ]
    }
   ],
   "source": [
    "#creating category list to place each attribute of the data into its own list\n",
    "latitude_list = []\n",
    "longitude_list = []\n",
    "\n",
    "\n",
    "for latitude in data['latitude']:\n",
    "    latitude_list.append(latitude)\n",
    "for longitude in data['longitude']:\n",
    "    longitude_list.append(longitude)\n",
    "    \n",
    "print(latitude_list)\n",
    "print(longitude_list)\n",
    "print(data['city'])"
   ]
  },
  {
   "cell_type": "code",
   "execution_count": 7,
   "metadata": {
    "scrolled": true
   },
   "outputs": [
    {
     "name": "stdout",
     "output_type": "stream",
     "text": [
      "What is the latitude coordinate of your location?: 29.18775\n",
      "What is the longitude coordinate of your location?: 82.14041\n",
      "\n",
      "\n",
      "\n",
      "The distance between the city and store#2 in Gainesville: 33.94622399696507 miles\n",
      "\n",
      "The distance between the city and store#6 in Orlando: 73.76129727197507 miles\n",
      "\n",
      "The distance between the city and store#4 in Jacksonville: 84.43751324405926 miles\n",
      "\n",
      "The distance between the city and store#5 in Tampa: 86.70132154154871 miles\n",
      "\n",
      "The distance between the city and store#1 in Tallahassee: 153.97004566604028 miles\n",
      "\n",
      "The distance between the city and store#7 in Hialeah: 256.207420389299 miles\n",
      "\n",
      "The distance between the city and store#3 in Miami: 263.8224187177654 miles\n"
     ]
    }
   ],
   "source": [
    "#d: distance between the two points\n",
    "#p1 & p2 are the two latitudes\n",
    "#sigma1 & sigma2 are in radians\n",
    "\n",
    "#R is the radius of Earth \n",
    "#R = #6371 kilometers or 3,959 miles\n",
    "\n",
    "def Haversin_Formula(long1, lati1, long2, lati2):\n",
    "    Earth_radius = 3958.8 #mi\n",
    "    longitude1 = math.radians(long1)\n",
    "    latitude1 = math.radians(lati1)\n",
    "    longitude2 = math.radians(long2)\n",
    "    latitude2 = math.radians(lati2)\n",
    "    h = np.sin((latitude2 - latitude1) / 2 ) ** 2 + np.cos(latitude1) * np.cos(latitude2) * np.sin((longitude2 - longitude1) / 2) ** 2\n",
    "    distance = 2 * Earth_radius * np.arcsin(np.sqrt(h))\n",
    "    return distance\n",
    "\n",
    "#allowing the user to input latitude and longitude coordinates\n",
    "customer_latitude = float(input('What is the latitude coordinate of your location?: '))\n",
    "customer_longitude = float(input('What is the longitude coordinate of your location?: '))\n",
    "print(\"\\n\")\n",
    "\n",
    "complete_distance = []\n",
    "\n",
    "#appending to empty list\n",
    "for i in range(len(latitude_list)):\n",
    "    complete_distance.append(Haversin_Formula(customer_longitude, customer_latitude, longitude_list[i], latitude_list[i]))\n",
    "    \n",
    "indice_vector = np.arange(1, len(complete_distance)+1) # index vector for sorting store number and city\n",
    "\n",
    "#Bubble Sort Algorithm       \n",
    "for i in range(len(complete_distance)):\n",
    "    for j in range(len(complete_distance)-1):\n",
    "        if complete_distance[j] > complete_distance[j+1]:\n",
    "            distance_hold = complete_distance[j+1]\n",
    "            complete_distance[j+1] = complete_distance[j]\n",
    "            complete_distance[j] = distance_hold\n",
    "            indice_hold = indice_vector[j+1]\n",
    "            indice_vector[j+1] = indice_vector[j]\n",
    "            indice_vector[j] = indice_hold  \n",
    "            \n",
    "#Printing out information about the stores and locations\n",
    "for j in range(len(complete_distance)):\n",
    "    location = indice_vector[j]-1\n",
    "    print(f\"\\nThe distance between the city and {data['store'][location]} in {data['city'][location]}: {complete_distance[j]} miles\")\n",
    "\n",
    "#Ocala - longitude: 82.14041 latitude: 29.18775\n",
    "#Lake City - longitude: 82.63712 latitude: 30.19052\n"
   ]
  },
  {
   "cell_type": "code",
   "execution_count": null,
   "metadata": {},
   "outputs": [],
   "source": []
  },
  {
   "cell_type": "code",
   "execution_count": null,
   "metadata": {},
   "outputs": [],
   "source": []
  }
 ],
 "metadata": {
  "kernelspec": {
   "display_name": "Python 3",
   "language": "python",
   "name": "python3"
  },
  "language_info": {
   "codemirror_mode": {
    "name": "ipython",
    "version": 3
   },
   "file_extension": ".py",
   "mimetype": "text/x-python",
   "name": "python",
   "nbconvert_exporter": "python",
   "pygments_lexer": "ipython3",
   "version": "3.7.3"
  }
 },
 "nbformat": 4,
 "nbformat_minor": 2
}
